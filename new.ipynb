{
 "cells": [
  {
   "cell_type": "code",
   "execution_count": 55,
   "metadata": {},
   "outputs": [],
   "source": [
    "from qgen import generate_subjective_questions\n",
    "from model import summarize"
   ]
  },
  {
   "cell_type": "markdown",
   "metadata": {},
   "source": [
    "## Input block"
   ]
  },
  {
   "cell_type": "code",
   "execution_count": 56,
   "metadata": {},
   "outputs": [],
   "source": [
    "input_text = '''**The Evolving Landscape of Artificial Intelligence**\n",
    "\n",
    "Artificial intelligence (AI) has rapidly evolved from a concept confined to science fiction to a transformative force reshaping industries across the globe. The exponential growth in computing power, coupled with advancements in machine learning algorithms, has enabled AI to perform tasks once thought to be exclusively human, such as recognizing patterns, understanding natural language, and even making complex decisions. \n",
    "\n",
    "One of the most significant breakthroughs in AI has been the development of deep learning, a subset of machine learning that involves training neural networks with vast amounts of data. This technique has led to remarkable achievements in areas like computer vision, natural language processing, and speech recognition. For instance, AI-powered systems can now accurately identify objects and scenes in images, translate languages in real time, and even generate human-like text. \n",
    "\n",
    "The applications of AI are vast and far-reaching. In the healthcare sector, AI is being used to develop more effective diagnostics, personalized treatment plans, and drug discovery. For example, AI-powered algorithms can analyze medical images to detect diseases at an earlier stage, reducing mortality rates. In the automotive industry, AI is driving the development of self-driving cars, which promise to revolutionize transportation by improving safety and efficiency. \n",
    "\n",
    "However, the rapid advancement of AI also raises important ethical and societal concerns. As AI systems become increasingly capable, there is a growing risk of job displacement and economic inequality. Additionally, the potential for misuse of AI, such as in surveillance or autonomous weapons, poses significant threats to privacy and security. \n",
    "\n",
    "To address these challenges, it is crucial to develop ethical guidelines and regulations that govern the development and deployment of AI. International cooperation and collaboration are also essential to ensure that AI is used for the benefit of humanity and not to harm it. As AI continues to evolve, it is imperative that we strike a balance between innovation and responsibility, ensuring that its benefits are shared equitably while mitigating its risks. \n",
    "'''"
   ]
  },
  {
   "cell_type": "code",
   "execution_count": 57,
   "metadata": {},
   "outputs": [
    {
     "name": "stdout",
     "output_type": "stream",
     "text": [
      "The number of words in the text is: 2236\n",
      "The number of sentences in the document now is: 15\n",
      "The dimension of term document matrix or (terms, sentences) is: (170, 15)\n",
      "(170, 3) (3,) (3, 15)\n",
      "The number of words in the 'text' is: 2236\n"
     ]
    },
    {
     "name": "stderr",
     "output_type": "stream",
     "text": [
      "/Users/neeravgarg/Documents/Code/AI Bootcamp/Main Project/env/lib/python3.12/site-packages/huggingface_hub/file_download.py:1150: FutureWarning: `resume_download` is deprecated and will be removed in version 1.0.0. Downloads always resume when possible. If you want to force a new download, use `force_download=True`.\n",
      "  warnings.warn(\n"
     ]
    },
    {
     "name": "stdout",
     "output_type": "stream",
     "text": [
      "**The Evolving Landscape of Artificial Intelligence** Artificial intelligence (AI) has rapidly evolved from a concept confined to science fiction to a transformative force reshaping industries across the globe. In the automotive industry, AI is driving the development of self-driving cars, which promise to revolutionize transportation by improving safety and efficiency. To address these challenges, it is crucial to develop ethical guidelines and regulations that govern the development and deployment of AI.\n"
     ]
    }
   ],
   "source": [
    "\n",
    "summarize(input_text)"
   ]
  },
  {
   "cell_type": "code",
   "execution_count": 58,
   "metadata": {},
   "outputs": [
    {
     "name": "stderr",
     "output_type": "stream",
     "text": [
      "/Users/neeravgarg/Documents/Code/AI Bootcamp/Main Project/env/lib/python3.12/site-packages/huggingface_hub/file_download.py:1150: FutureWarning: `resume_download` is deprecated and will be removed in version 1.0.0. Downloads always resume when possible. If you want to force a new download, use `force_download=True`.\n",
      "  warnings.warn(\n",
      "Special tokens have been added in the vocabulary, make sure the associated word embeddings are fine-tuned or trained.\n",
      "Special tokens have been added in the vocabulary, make sure the associated word embeddings are fine-tuned or trained.\n"
     ]
    }
   ],
   "source": [
    "questions = generate_subjective_questions(input_text)\n",
    "cleaned_questions = []\n",
    "for question in questions:\n",
    "    cleaned_question = question.strip(\"[]'\")  # Remove any unwanted characters\n",
    "    cleaned_questions.append(cleaned_question)\n",
    "\n",
    "generated_ques = ''\n",
    "        # Write the generated questions to a file\n",
    "i = 1\n",
    "# with open('questions.txt', 'a') as new:\n",
    "#     for ques in cleaned_questions:\n",
    "#         new.write(f'Ques {i}. {ques}\\n')\n",
    "#         generated_ques= generated_ques+(f'Ques {i}. {ques}         ')\n",
    "#         i += 1\n"
   ]
  },
  {
   "cell_type": "code",
   "execution_count": 62,
   "metadata": {},
   "outputs": [
    {
     "name": "stdout",
     "output_type": "stream",
     "text": [
      "**The Evolving Landscape of Artificial Intelligence** Artificial intelligence (AI) has rapidly evolved from a concept confined to science fiction to a transformative force reshaping industries across the globe. In the automotive industry, AI is driving the development of self-driving cars, which promise to revolutionize transportation by improving safety and efficiency. To address these challenges, it is crucial to develop ethical guidelines and regulations that govern the development and deployment of AI.**The Evolving Landscape of Artificial Intelligence** Artificial intelligence (AI) has rapidly evolved from a concept confined to science fiction to a transformative force reshaping industries across the globe. In the automotive industry, AI is driving the development of self-driving cars, which promise to revolutionize transportation by improving safety and efficiency. To address these challenges, it is crucial to develop ethical guidelines and regulations that govern the development and deployment of AI.**The Evolving Landscape of Artificial Intelligence** Artificial intelligence (AI) has rapidly evolved from a concept confined to science fiction to a transformative force reshaping industries across the globe. In the automotive industry, AI is driving the development of self-driving cars, which promise to revolutionize transportation by improving safety and efficiency. To address these challenges, it is crucial to develop ethical guidelines and regulations that govern the development and deployment of AI.**The Evolving Landscape of Artificial Intelligence** Artificial intelligence (AI) has rapidly evolved from a concept confined to science fiction to a transformative force reshaping industries across the globe. In the automotive industry, AI is driving the development of self-driving cars, which promise to revolutionize transportation by improving safety and efficiency. To address these challenges, it is crucial to develop ethical guidelines and regulations that govern the development and deployment of AI.**The Evolving Landscape of Artificial Intelligence** Artificial intelligence (AI) has rapidly evolved from a concept confined to science fiction to a transformative force reshaping industries across the globe. In the automotive industry, AI is driving the development of self-driving cars, which promise to revolutionize transportation by improving safety and efficiency. To address these challenges, it is crucial to develop ethical guidelines and regulations that govern the development and deployment of AI.**The Evolving Landscape of Artificial Intelligence** Artificial intelligence (AI) has rapidly evolved from a concept confined to science fiction to a transformative force reshaping industries across the globe. In the automotive industry, AI is driving the development of self-driving cars, which promise to revolutionize transportation by improving safety and efficiency. To address these challenges, it is crucial to develop ethical guidelines and regulations that govern the development and deployment of AI.**The Evolving Landscape of Artificial Intelligence** Artificial intelligence (AI) has rapidly evolved from a concept confined to science fiction to a transformative force reshaping industries across the globe. In the automotive industry, AI is driving the development of self-driving cars, which promise to revolutionize transportation by improving safety and efficiency. To address these challenges, it is crucial to develop ethical guidelines and regulations that govern the development and deployment of AI.**The Evolving Landscape of Artificial Intelligence** Artificial intelligence (AI) has rapidly evolved from a concept confined to science fiction to a transformative force reshaping industries across the globe. In the automotive industry, AI is driving the development of self-driving cars, which promise to revolutionize transportation by improving safety and efficiency. To address these challenges, it is crucial to develop ethical guidelines and regulations that govern the development and deployment of AI.\n"
     ]
    }
   ],
   "source": [
    "summary = ''\n",
    "\n",
    "with open('summary.txt','r') as file:\n",
    "    summary = file.read()\n",
    "\n",
    "print(summary)"
   ]
  },
  {
   "cell_type": "code",
   "execution_count": 60,
   "metadata": {},
   "outputs": [
    {
     "name": "stdout",
     "output_type": "stream",
     "text": [
      "['What has AI become a transformative force reshaping industries across the globe?', 'What is deep learning?', 'AI-powered systems can now accurately identify objects and scenes in images, translate languages in real time, and convert languages to real time?', 'What is AI-powered algorithms capable of analyze medical images?', 'What do AI-powered algorithms analyze medical images to detect diseases?', 'What is the potential for misuse of AI?', 'What is a major threat to privacy and security?', 'What is essential to ensure that AI is used for the benefit of humanity and not to harm it?']\n"
     ]
    }
   ],
   "source": [
    "print(cleaned_questions)"
   ]
  }
 ],
 "metadata": {
  "kernelspec": {
   "display_name": "env",
   "language": "python",
   "name": "python3"
  },
  "language_info": {
   "codemirror_mode": {
    "name": "ipython",
    "version": 3
   },
   "file_extension": ".py",
   "mimetype": "text/x-python",
   "name": "python",
   "nbconvert_exporter": "python",
   "pygments_lexer": "ipython3",
   "version": "3.12.5"
  }
 },
 "nbformat": 4,
 "nbformat_minor": 2
}
